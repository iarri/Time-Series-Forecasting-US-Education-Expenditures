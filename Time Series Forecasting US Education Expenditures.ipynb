{
 "cells": [
  {
   "cell_type": "markdown",
   "metadata": {},
   "source": [
    "PART ONE"
   ]
  },
  {
   "cell_type": "markdown",
   "metadata": {},
   "source": [
    "1. Import Libraries"
   ]
  },
  {
   "cell_type": "markdown",
   "metadata": {},
   "source": [
    "\"Prophet is a procedure for forecasting time series data based on an additive model where non-linear trends are\n",
    "fit with yearly, weekly, and daily seasonality, plus holiday effects. It works best with time series that have \n",
    "strong seasonal effects and several seasons of historical data. Prophet is robust to missing data and shifts \n",
    "in the trend, and typically handles outliers well.\""
   ]
  },
  {
   "cell_type": "code",
   "execution_count": 1,
   "metadata": {},
   "outputs": [
    {
     "name": "stderr",
     "output_type": "stream",
     "text": [
      "Importing plotly failed. Interactive plots will not work.\n"
     ]
    }
   ],
   "source": [
    "import pandas as pd\n",
    "import numpy as np\n",
    "from fbprophet import Prophet\n",
    "import matplotlib.pyplot as plt\n",
    " \n",
    "%matplotlib inline\n",
    " \n",
    "plt.rcParams['figure.figsize']=(20,10)\n",
    "plt.style.use('ggplot')\n",
    "pd.options.display.float_format = '{:.2f}'.format #remove scientific notation"
   ]
  },
  {
   "cell_type": "markdown",
   "metadata": {},
   "source": [
    "Suppress Pandas warnings"
   ]
  },
  {
   "cell_type": "code",
   "execution_count": 2,
   "metadata": {},
   "outputs": [
    {
     "name": "stdout",
     "output_type": "stream",
     "text": [
      "False\n"
     ]
    }
   ],
   "source": [
    "import warnings\n",
    "warnings.simplefilter(action='ignore', category=FutureWarning)\n",
    "print('x' in np.arange(5))   #returns False, without Warning"
   ]
  },
  {
   "cell_type": "markdown",
   "metadata": {},
   "source": [
    "PART TWO"
   ]
  },
  {
   "cell_type": "markdown",
   "metadata": {},
   "source": [
    "2. Read the data in from the \"states all extended\" CSV file."
   ]
  },
  {
   "cell_type": "code",
   "execution_count": 3,
   "metadata": {},
   "outputs": [],
   "source": [
    "edu_df = pd.read_csv('../US_Education/states_all_extended.csv')"
   ]
  },
  {
   "cell_type": "code",
   "execution_count": 4,
   "metadata": {},
   "outputs": [
    {
     "data": {
      "text/html": [
       "<div>\n",
       "<style scoped>\n",
       "    .dataframe tbody tr th:only-of-type {\n",
       "        vertical-align: middle;\n",
       "    }\n",
       "\n",
       "    .dataframe tbody tr th {\n",
       "        vertical-align: top;\n",
       "    }\n",
       "\n",
       "    .dataframe thead th {\n",
       "        text-align: right;\n",
       "    }\n",
       "</style>\n",
       "<table border=\"1\" class=\"dataframe\">\n",
       "  <thead>\n",
       "    <tr style=\"text-align: right;\">\n",
       "      <th></th>\n",
       "      <th>PRIMARY_KEY</th>\n",
       "      <th>STATE</th>\n",
       "      <th>YEAR</th>\n",
       "      <th>ENROLL</th>\n",
       "      <th>TOTAL_REVENUE</th>\n",
       "      <th>FEDERAL_REVENUE</th>\n",
       "      <th>STATE_REVENUE</th>\n",
       "      <th>LOCAL_REVENUE</th>\n",
       "      <th>TOTAL_EXPENDITURE</th>\n",
       "      <th>INSTRUCTION_EXPENDITURE</th>\n",
       "      <th>...</th>\n",
       "      <th>G08_HI_A_READING</th>\n",
       "      <th>G08_HI_A_MATHEMATICS</th>\n",
       "      <th>G08_AS_A_READING</th>\n",
       "      <th>G08_AS_A_MATHEMATICS</th>\n",
       "      <th>G08_AM_A_READING</th>\n",
       "      <th>G08_AM_A_MATHEMATICS</th>\n",
       "      <th>G08_HP_A_READING</th>\n",
       "      <th>G08_HP_A_MATHEMATICS</th>\n",
       "      <th>G08_TR_A_READING</th>\n",
       "      <th>G08_TR_A_MATHEMATICS</th>\n",
       "    </tr>\n",
       "  </thead>\n",
       "  <tbody>\n",
       "    <tr>\n",
       "      <th>0</th>\n",
       "      <td>1992_ALABAMA</td>\n",
       "      <td>ALABAMA</td>\n",
       "      <td>1992</td>\n",
       "      <td>nan</td>\n",
       "      <td>2678885.00</td>\n",
       "      <td>304177.00</td>\n",
       "      <td>1659028.00</td>\n",
       "      <td>715680.00</td>\n",
       "      <td>2653798.00</td>\n",
       "      <td>1481703.00</td>\n",
       "      <td>...</td>\n",
       "      <td>nan</td>\n",
       "      <td>nan</td>\n",
       "      <td>nan</td>\n",
       "      <td>nan</td>\n",
       "      <td>nan</td>\n",
       "      <td>nan</td>\n",
       "      <td>nan</td>\n",
       "      <td>nan</td>\n",
       "      <td>nan</td>\n",
       "      <td>nan</td>\n",
       "    </tr>\n",
       "    <tr>\n",
       "      <th>1</th>\n",
       "      <td>1992_ALASKA</td>\n",
       "      <td>ALASKA</td>\n",
       "      <td>1992</td>\n",
       "      <td>nan</td>\n",
       "      <td>1049591.00</td>\n",
       "      <td>106780.00</td>\n",
       "      <td>720711.00</td>\n",
       "      <td>222100.00</td>\n",
       "      <td>972488.00</td>\n",
       "      <td>498362.00</td>\n",
       "      <td>...</td>\n",
       "      <td>nan</td>\n",
       "      <td>nan</td>\n",
       "      <td>nan</td>\n",
       "      <td>nan</td>\n",
       "      <td>nan</td>\n",
       "      <td>nan</td>\n",
       "      <td>nan</td>\n",
       "      <td>nan</td>\n",
       "      <td>nan</td>\n",
       "      <td>nan</td>\n",
       "    </tr>\n",
       "    <tr>\n",
       "      <th>2</th>\n",
       "      <td>1992_ARIZONA</td>\n",
       "      <td>ARIZONA</td>\n",
       "      <td>1992</td>\n",
       "      <td>nan</td>\n",
       "      <td>3258079.00</td>\n",
       "      <td>297888.00</td>\n",
       "      <td>1369815.00</td>\n",
       "      <td>1590376.00</td>\n",
       "      <td>3401580.00</td>\n",
       "      <td>1435908.00</td>\n",
       "      <td>...</td>\n",
       "      <td>nan</td>\n",
       "      <td>nan</td>\n",
       "      <td>nan</td>\n",
       "      <td>nan</td>\n",
       "      <td>nan</td>\n",
       "      <td>nan</td>\n",
       "      <td>nan</td>\n",
       "      <td>nan</td>\n",
       "      <td>nan</td>\n",
       "      <td>nan</td>\n",
       "    </tr>\n",
       "    <tr>\n",
       "      <th>3</th>\n",
       "      <td>1992_ARKANSAS</td>\n",
       "      <td>ARKANSAS</td>\n",
       "      <td>1992</td>\n",
       "      <td>nan</td>\n",
       "      <td>1711959.00</td>\n",
       "      <td>178571.00</td>\n",
       "      <td>958785.00</td>\n",
       "      <td>574603.00</td>\n",
       "      <td>1743022.00</td>\n",
       "      <td>964323.00</td>\n",
       "      <td>...</td>\n",
       "      <td>nan</td>\n",
       "      <td>nan</td>\n",
       "      <td>nan</td>\n",
       "      <td>nan</td>\n",
       "      <td>nan</td>\n",
       "      <td>nan</td>\n",
       "      <td>nan</td>\n",
       "      <td>nan</td>\n",
       "      <td>nan</td>\n",
       "      <td>nan</td>\n",
       "    </tr>\n",
       "    <tr>\n",
       "      <th>4</th>\n",
       "      <td>1992_CALIFORNIA</td>\n",
       "      <td>CALIFORNIA</td>\n",
       "      <td>1992</td>\n",
       "      <td>nan</td>\n",
       "      <td>26260025.00</td>\n",
       "      <td>2072470.00</td>\n",
       "      <td>16546514.00</td>\n",
       "      <td>7641041.00</td>\n",
       "      <td>27138832.00</td>\n",
       "      <td>14358922.00</td>\n",
       "      <td>...</td>\n",
       "      <td>nan</td>\n",
       "      <td>nan</td>\n",
       "      <td>nan</td>\n",
       "      <td>nan</td>\n",
       "      <td>nan</td>\n",
       "      <td>nan</td>\n",
       "      <td>nan</td>\n",
       "      <td>nan</td>\n",
       "      <td>nan</td>\n",
       "      <td>nan</td>\n",
       "    </tr>\n",
       "  </tbody>\n",
       "</table>\n",
       "<p>5 rows × 266 columns</p>\n",
       "</div>"
      ],
      "text/plain": [
       "       PRIMARY_KEY       STATE  YEAR  ENROLL  TOTAL_REVENUE  FEDERAL_REVENUE  \\\n",
       "0     1992_ALABAMA     ALABAMA  1992     nan     2678885.00        304177.00   \n",
       "1      1992_ALASKA      ALASKA  1992     nan     1049591.00        106780.00   \n",
       "2     1992_ARIZONA     ARIZONA  1992     nan     3258079.00        297888.00   \n",
       "3    1992_ARKANSAS    ARKANSAS  1992     nan     1711959.00        178571.00   \n",
       "4  1992_CALIFORNIA  CALIFORNIA  1992     nan    26260025.00       2072470.00   \n",
       "\n",
       "   STATE_REVENUE  LOCAL_REVENUE  TOTAL_EXPENDITURE  INSTRUCTION_EXPENDITURE  \\\n",
       "0     1659028.00      715680.00         2653798.00               1481703.00   \n",
       "1      720711.00      222100.00          972488.00                498362.00   \n",
       "2     1369815.00     1590376.00         3401580.00               1435908.00   \n",
       "3      958785.00      574603.00         1743022.00                964323.00   \n",
       "4    16546514.00     7641041.00        27138832.00              14358922.00   \n",
       "\n",
       "   ...  G08_HI_A_READING  G08_HI_A_MATHEMATICS  G08_AS_A_READING  \\\n",
       "0  ...               nan                   nan               nan   \n",
       "1  ...               nan                   nan               nan   \n",
       "2  ...               nan                   nan               nan   \n",
       "3  ...               nan                   nan               nan   \n",
       "4  ...               nan                   nan               nan   \n",
       "\n",
       "   G08_AS_A_MATHEMATICS  G08_AM_A_READING  G08_AM_A_MATHEMATICS  \\\n",
       "0                   nan               nan                   nan   \n",
       "1                   nan               nan                   nan   \n",
       "2                   nan               nan                   nan   \n",
       "3                   nan               nan                   nan   \n",
       "4                   nan               nan                   nan   \n",
       "\n",
       "   G08_HP_A_READING  G08_HP_A_MATHEMATICS  G08_TR_A_READING  \\\n",
       "0               nan                   nan               nan   \n",
       "1               nan                   nan               nan   \n",
       "2               nan                   nan               nan   \n",
       "3               nan                   nan               nan   \n",
       "4               nan                   nan               nan   \n",
       "\n",
       "   G08_TR_A_MATHEMATICS  \n",
       "0                   nan  \n",
       "1                   nan  \n",
       "2                   nan  \n",
       "3                   nan  \n",
       "4                   nan  \n",
       "\n",
       "[5 rows x 266 columns]"
      ]
     },
     "execution_count": 4,
     "metadata": {},
     "output_type": "execute_result"
    }
   ],
   "source": [
    "edu_df.head()"
   ]
  },
  {
   "cell_type": "markdown",
   "metadata": {},
   "source": [
    "2. Create a function that returns every year and the combined sum (of 50 states) of a given collumn (In this case, we choose the TOTAL_EXPENDITURE)"
   ]
  },
  {
   "cell_type": "code",
   "execution_count": 5,
   "metadata": {},
   "outputs": [],
   "source": [
    "def TotalsByYear(column):\n",
    "    year_1992 = edu_df[edu_df['YEAR'] == 1992]\n",
    "    year_1993 = edu_df[edu_df['YEAR'] == 1993]\n",
    "    year_1994 = edu_df[edu_df['YEAR'] == 1994]\n",
    "    year_1995 = edu_df[edu_df['YEAR'] == 1995]\n",
    "    year_1996 = edu_df[edu_df['YEAR'] == 1996]\n",
    "    year_1997 = edu_df[edu_df['YEAR'] == 1997]\n",
    "    year_1998 = edu_df[edu_df['YEAR'] == 1998]\n",
    "    year_1999 = edu_df[edu_df['YEAR'] == 1999]\n",
    "    year_2000 = edu_df[edu_df['YEAR'] == 2000]\n",
    "    year_2001 = edu_df[edu_df['YEAR'] == 2001]\n",
    "    year_2002 = edu_df[edu_df['YEAR'] == 2002]\n",
    "    year_2003 = edu_df[edu_df['YEAR'] == 2003]\n",
    "    year_2004 = edu_df[edu_df['YEAR'] == 2004]\n",
    "    year_2005 = edu_df[edu_df['YEAR'] == 2005]\n",
    "    year_2006 = edu_df[edu_df['YEAR'] == 2006]\n",
    "    year_2007 = edu_df[edu_df['YEAR'] == 2007]\n",
    "    year_2008 = edu_df[edu_df['YEAR'] == 2008]\n",
    "    year_2009 = edu_df[edu_df['YEAR'] == 2009]\n",
    "    year_2010 = edu_df[edu_df['YEAR'] == 2010]\n",
    "    year_2011 = edu_df[edu_df['YEAR'] == 2011]\n",
    "    year_2012 = edu_df[edu_df['YEAR'] == 2012]\n",
    "    year_2013 = edu_df[edu_df['YEAR'] == 2013]\n",
    "    year_2014 = edu_df[edu_df['YEAR'] == 2014]\n",
    "    year_2015 = edu_df[edu_df['YEAR'] == 2015]\n",
    "    year_2016 = edu_df[edu_df['YEAR'] == 2016]\n",
    "    \n",
    "    SUM_year_1992 = year_1992[column].sum()\n",
    "    SUM_year_1993 = year_1993[column].sum()\n",
    "    SUM_year_1994 = year_1994[column].sum()\n",
    "    SUM_year_1995 = year_1995[column].sum()\n",
    "    SUM_year_1996 = year_1996[column].sum()\n",
    "    SUM_year_1997 = year_1997[column].sum()\n",
    "    SUM_year_1998 = year_1998[column].sum()\n",
    "    SUM_year_1999 = year_1999[column].sum()\n",
    "    SUM_year_2000 = year_2000[column].sum()\n",
    "    SUM_year_2001 = year_2001[column].sum()\n",
    "    SUM_year_2002 = year_2002[column].sum()\n",
    "    SUM_year_2003 = year_2003[column].sum()\n",
    "    SUM_year_2004 = year_2004[column].sum()\n",
    "    SUM_year_2005 = year_2005[column].sum()\n",
    "    SUM_year_2006 = year_2006[column].sum()\n",
    "    SUM_year_2007 = year_2007[column].sum()\n",
    "    SUM_year_2008 = year_2008[column].sum()\n",
    "    SUM_year_2009 = year_2009[column].sum()\n",
    "    SUM_year_2010 = year_2010[column].sum()\n",
    "    SUM_year_2011 = year_2011[column].sum()\n",
    "    SUM_year_2012 = year_2012[column].sum()\n",
    "    SUM_year_2013 = year_2013[column].sum()\n",
    "    SUM_year_2014 = year_2014[column].sum()\n",
    "    SUM_year_2015 = year_2015[column].sum()\n",
    "    SUM_year_2016 = year_2016[column].sum()\n",
    "    \n",
    "    SUM_df = pd.DataFrame({'Year': ['1992','1993','1994','1995','1996', '1997','1998','1999','2000','2001','2002','2003',\n",
    "                                    '2004','2005','2006','2007','2008','2009','2010','2011','2012','2013','2014','2015','2016',],\n",
    "                          'Total_Expenditure':[SUM_year_1992,SUM_year_1993,SUM_year_1994,SUM_year_1995,SUM_year_1996,SUM_year_1997,\n",
    "                                               SUM_year_1998,SUM_year_1999,SUM_year_2000,SUM_year_2001,SUM_year_2002,SUM_year_2003,\n",
    "                                               SUM_year_2004,SUM_year_2005,SUM_year_2006,SUM_year_2007,SUM_year_2008,SUM_year_2009,\n",
    "                                               SUM_year_2010,SUM_year_2011,SUM_year_2012,SUM_year_2013,SUM_year_2014,SUM_year_2015,\n",
    "                                               SUM_year_2016]\n",
    "                          })\n",
    "    return SUM_df;"
   ]
  },
  {
   "cell_type": "code",
   "execution_count": 6,
   "metadata": {},
   "outputs": [
    {
     "data": {
      "text/html": [
       "<div>\n",
       "<style scoped>\n",
       "    .dataframe tbody tr th:only-of-type {\n",
       "        vertical-align: middle;\n",
       "    }\n",
       "\n",
       "    .dataframe tbody tr th {\n",
       "        vertical-align: top;\n",
       "    }\n",
       "\n",
       "    .dataframe thead th {\n",
       "        text-align: right;\n",
       "    }\n",
       "</style>\n",
       "<table border=\"1\" class=\"dataframe\">\n",
       "  <thead>\n",
       "    <tr style=\"text-align: right;\">\n",
       "      <th></th>\n",
       "      <th>Year</th>\n",
       "      <th>Total_Expenditure</th>\n",
       "    </tr>\n",
       "  </thead>\n",
       "  <tbody>\n",
       "    <tr>\n",
       "      <th>0</th>\n",
       "      <td>1992</td>\n",
       "      <td>237333143.00</td>\n",
       "    </tr>\n",
       "    <tr>\n",
       "      <th>1</th>\n",
       "      <td>1993</td>\n",
       "      <td>244202408.00</td>\n",
       "    </tr>\n",
       "    <tr>\n",
       "      <th>2</th>\n",
       "      <td>1994</td>\n",
       "      <td>252664869.00</td>\n",
       "    </tr>\n",
       "    <tr>\n",
       "      <th>3</th>\n",
       "      <td>1995</td>\n",
       "      <td>281831835.00</td>\n",
       "    </tr>\n",
       "    <tr>\n",
       "      <th>4</th>\n",
       "      <td>1996</td>\n",
       "      <td>297740499.00</td>\n",
       "    </tr>\n",
       "    <tr>\n",
       "      <th>5</th>\n",
       "      <td>1997</td>\n",
       "      <td>315861220.00</td>\n",
       "    </tr>\n",
       "    <tr>\n",
       "      <th>6</th>\n",
       "      <td>1998</td>\n",
       "      <td>336384794.00</td>\n",
       "    </tr>\n",
       "    <tr>\n",
       "      <th>7</th>\n",
       "      <td>1999</td>\n",
       "      <td>360474429.00</td>\n",
       "    </tr>\n",
       "    <tr>\n",
       "      <th>8</th>\n",
       "      <td>2000</td>\n",
       "      <td>386177409.00</td>\n",
       "    </tr>\n",
       "    <tr>\n",
       "      <th>9</th>\n",
       "      <td>2001</td>\n",
       "      <td>417014891.00</td>\n",
       "    </tr>\n",
       "    <tr>\n",
       "      <th>10</th>\n",
       "      <td>2002</td>\n",
       "      <td>442685445.00</td>\n",
       "    </tr>\n",
       "    <tr>\n",
       "      <th>11</th>\n",
       "      <td>2003</td>\n",
       "      <td>462275098.00</td>\n",
       "    </tr>\n",
       "    <tr>\n",
       "      <th>12</th>\n",
       "      <td>2004</td>\n",
       "      <td>481241595.00</td>\n",
       "    </tr>\n",
       "    <tr>\n",
       "      <th>13</th>\n",
       "      <td>2005</td>\n",
       "      <td>506626625.00</td>\n",
       "    </tr>\n",
       "    <tr>\n",
       "      <th>14</th>\n",
       "      <td>2006</td>\n",
       "      <td>536742833.00</td>\n",
       "    </tr>\n",
       "    <tr>\n",
       "      <th>15</th>\n",
       "      <td>2007</td>\n",
       "      <td>569654941.00</td>\n",
       "    </tr>\n",
       "    <tr>\n",
       "      <th>16</th>\n",
       "      <td>2008</td>\n",
       "      <td>604581544.00</td>\n",
       "    </tr>\n",
       "    <tr>\n",
       "      <th>17</th>\n",
       "      <td>2009</td>\n",
       "      <td>616770225.00</td>\n",
       "    </tr>\n",
       "    <tr>\n",
       "      <th>18</th>\n",
       "      <td>2010</td>\n",
       "      <td>614739370.00</td>\n",
       "    </tr>\n",
       "    <tr>\n",
       "      <th>19</th>\n",
       "      <td>2011</td>\n",
       "      <td>607600935.00</td>\n",
       "    </tr>\n",
       "    <tr>\n",
       "      <th>20</th>\n",
       "      <td>2012</td>\n",
       "      <td>604805382.00</td>\n",
       "    </tr>\n",
       "    <tr>\n",
       "      <th>21</th>\n",
       "      <td>2013</td>\n",
       "      <td>608403723.00</td>\n",
       "    </tr>\n",
       "    <tr>\n",
       "      <th>22</th>\n",
       "      <td>2014</td>\n",
       "      <td>624718207.00</td>\n",
       "    </tr>\n",
       "    <tr>\n",
       "      <th>23</th>\n",
       "      <td>2015</td>\n",
       "      <td>650900851.00</td>\n",
       "    </tr>\n",
       "    <tr>\n",
       "      <th>24</th>\n",
       "      <td>2016</td>\n",
       "      <td>676526434.00</td>\n",
       "    </tr>\n",
       "  </tbody>\n",
       "</table>\n",
       "</div>"
      ],
      "text/plain": [
       "    Year  Total_Expenditure\n",
       "0   1992       237333143.00\n",
       "1   1993       244202408.00\n",
       "2   1994       252664869.00\n",
       "3   1995       281831835.00\n",
       "4   1996       297740499.00\n",
       "5   1997       315861220.00\n",
       "6   1998       336384794.00\n",
       "7   1999       360474429.00\n",
       "8   2000       386177409.00\n",
       "9   2001       417014891.00\n",
       "10  2002       442685445.00\n",
       "11  2003       462275098.00\n",
       "12  2004       481241595.00\n",
       "13  2005       506626625.00\n",
       "14  2006       536742833.00\n",
       "15  2007       569654941.00\n",
       "16  2008       604581544.00\n",
       "17  2009       616770225.00\n",
       "18  2010       614739370.00\n",
       "19  2011       607600935.00\n",
       "20  2012       604805382.00\n",
       "21  2013       608403723.00\n",
       "22  2014       624718207.00\n",
       "23  2015       650900851.00\n",
       "24  2016       676526434.00"
      ]
     },
     "execution_count": 6,
     "metadata": {},
     "output_type": "execute_result"
    }
   ],
   "source": [
    "TotalsByYear(column=\"TOTAL_EXPENDITURE\")\n",
    "#edu_df[edu_df['YEAR'] == 1992]"
   ]
  },
  {
   "cell_type": "markdown",
   "metadata": {},
   "source": [
    "Note: These numbers are in the Thousands. i.e. 23,733,143 = $23,733,143,000"
   ]
  },
  {
   "cell_type": "markdown",
   "metadata": {},
   "source": [
    "2. Create a dataframe with the needed variables(Year and total expenditures). set the index to the 'year' column."
   ]
  },
  {
   "cell_type": "code",
   "execution_count": 7,
   "metadata": {},
   "outputs": [],
   "source": [
    "total_df = TotalsByYear(column=\"TOTAL_EXPENDITURE\")"
   ]
  },
  {
   "cell_type": "code",
   "execution_count": 8,
   "metadata": {},
   "outputs": [
    {
     "data": {
      "text/html": [
       "<div>\n",
       "<style scoped>\n",
       "    .dataframe tbody tr th:only-of-type {\n",
       "        vertical-align: middle;\n",
       "    }\n",
       "\n",
       "    .dataframe tbody tr th {\n",
       "        vertical-align: top;\n",
       "    }\n",
       "\n",
       "    .dataframe thead th {\n",
       "        text-align: right;\n",
       "    }\n",
       "</style>\n",
       "<table border=\"1\" class=\"dataframe\">\n",
       "  <thead>\n",
       "    <tr style=\"text-align: right;\">\n",
       "      <th></th>\n",
       "      <th>Total_Expenditure</th>\n",
       "    </tr>\n",
       "    <tr>\n",
       "      <th>Year</th>\n",
       "      <th></th>\n",
       "    </tr>\n",
       "  </thead>\n",
       "  <tbody>\n",
       "    <tr>\n",
       "      <th>1992</th>\n",
       "      <td>237333143.00</td>\n",
       "    </tr>\n",
       "    <tr>\n",
       "      <th>1993</th>\n",
       "      <td>244202408.00</td>\n",
       "    </tr>\n",
       "    <tr>\n",
       "      <th>1994</th>\n",
       "      <td>252664869.00</td>\n",
       "    </tr>\n",
       "    <tr>\n",
       "      <th>1995</th>\n",
       "      <td>281831835.00</td>\n",
       "    </tr>\n",
       "    <tr>\n",
       "      <th>1996</th>\n",
       "      <td>297740499.00</td>\n",
       "    </tr>\n",
       "    <tr>\n",
       "      <th>1997</th>\n",
       "      <td>315861220.00</td>\n",
       "    </tr>\n",
       "    <tr>\n",
       "      <th>1998</th>\n",
       "      <td>336384794.00</td>\n",
       "    </tr>\n",
       "    <tr>\n",
       "      <th>1999</th>\n",
       "      <td>360474429.00</td>\n",
       "    </tr>\n",
       "    <tr>\n",
       "      <th>2000</th>\n",
       "      <td>386177409.00</td>\n",
       "    </tr>\n",
       "    <tr>\n",
       "      <th>2001</th>\n",
       "      <td>417014891.00</td>\n",
       "    </tr>\n",
       "    <tr>\n",
       "      <th>2002</th>\n",
       "      <td>442685445.00</td>\n",
       "    </tr>\n",
       "    <tr>\n",
       "      <th>2003</th>\n",
       "      <td>462275098.00</td>\n",
       "    </tr>\n",
       "    <tr>\n",
       "      <th>2004</th>\n",
       "      <td>481241595.00</td>\n",
       "    </tr>\n",
       "    <tr>\n",
       "      <th>2005</th>\n",
       "      <td>506626625.00</td>\n",
       "    </tr>\n",
       "    <tr>\n",
       "      <th>2006</th>\n",
       "      <td>536742833.00</td>\n",
       "    </tr>\n",
       "    <tr>\n",
       "      <th>2007</th>\n",
       "      <td>569654941.00</td>\n",
       "    </tr>\n",
       "    <tr>\n",
       "      <th>2008</th>\n",
       "      <td>604581544.00</td>\n",
       "    </tr>\n",
       "    <tr>\n",
       "      <th>2009</th>\n",
       "      <td>616770225.00</td>\n",
       "    </tr>\n",
       "    <tr>\n",
       "      <th>2010</th>\n",
       "      <td>614739370.00</td>\n",
       "    </tr>\n",
       "    <tr>\n",
       "      <th>2011</th>\n",
       "      <td>607600935.00</td>\n",
       "    </tr>\n",
       "    <tr>\n",
       "      <th>2012</th>\n",
       "      <td>604805382.00</td>\n",
       "    </tr>\n",
       "    <tr>\n",
       "      <th>2013</th>\n",
       "      <td>608403723.00</td>\n",
       "    </tr>\n",
       "    <tr>\n",
       "      <th>2014</th>\n",
       "      <td>624718207.00</td>\n",
       "    </tr>\n",
       "    <tr>\n",
       "      <th>2015</th>\n",
       "      <td>650900851.00</td>\n",
       "    </tr>\n",
       "    <tr>\n",
       "      <th>2016</th>\n",
       "      <td>676526434.00</td>\n",
       "    </tr>\n",
       "  </tbody>\n",
       "</table>\n",
       "</div>"
      ],
      "text/plain": [
       "      Total_Expenditure\n",
       "Year                   \n",
       "1992       237333143.00\n",
       "1993       244202408.00\n",
       "1994       252664869.00\n",
       "1995       281831835.00\n",
       "1996       297740499.00\n",
       "1997       315861220.00\n",
       "1998       336384794.00\n",
       "1999       360474429.00\n",
       "2000       386177409.00\n",
       "2001       417014891.00\n",
       "2002       442685445.00\n",
       "2003       462275098.00\n",
       "2004       481241595.00\n",
       "2005       506626625.00\n",
       "2006       536742833.00\n",
       "2007       569654941.00\n",
       "2008       604581544.00\n",
       "2009       616770225.00\n",
       "2010       614739370.00\n",
       "2011       607600935.00\n",
       "2012       604805382.00\n",
       "2013       608403723.00\n",
       "2014       624718207.00\n",
       "2015       650900851.00\n",
       "2016       676526434.00"
      ]
     },
     "execution_count": 8,
     "metadata": {},
     "output_type": "execute_result"
    }
   ],
   "source": [
    "total_df.set_index('Year')"
   ]
  },
  {
   "cell_type": "markdown",
   "metadata": {},
   "source": [
    "create a new dataframe (old one will be used again later). The new dataframe will initially be created with an integer index so we can rename the columns."
   ]
  },
  {
   "cell_type": "code",
   "execution_count": 9,
   "metadata": {},
   "outputs": [
    {
     "data": {
      "text/html": [
       "<div>\n",
       "<style scoped>\n",
       "    .dataframe tbody tr th:only-of-type {\n",
       "        vertical-align: middle;\n",
       "    }\n",
       "\n",
       "    .dataframe tbody tr th {\n",
       "        vertical-align: top;\n",
       "    }\n",
       "\n",
       "    .dataframe thead th {\n",
       "        text-align: right;\n",
       "    }\n",
       "</style>\n",
       "<table border=\"1\" class=\"dataframe\">\n",
       "  <thead>\n",
       "    <tr style=\"text-align: right;\">\n",
       "      <th></th>\n",
       "      <th>Year</th>\n",
       "      <th>Total_Expenditure</th>\n",
       "    </tr>\n",
       "  </thead>\n",
       "  <tbody>\n",
       "    <tr>\n",
       "      <th>0</th>\n",
       "      <td>1992</td>\n",
       "      <td>237333143.00</td>\n",
       "    </tr>\n",
       "    <tr>\n",
       "      <th>1</th>\n",
       "      <td>1993</td>\n",
       "      <td>244202408.00</td>\n",
       "    </tr>\n",
       "    <tr>\n",
       "      <th>2</th>\n",
       "      <td>1994</td>\n",
       "      <td>252664869.00</td>\n",
       "    </tr>\n",
       "    <tr>\n",
       "      <th>3</th>\n",
       "      <td>1995</td>\n",
       "      <td>281831835.00</td>\n",
       "    </tr>\n",
       "    <tr>\n",
       "      <th>4</th>\n",
       "      <td>1996</td>\n",
       "      <td>297740499.00</td>\n",
       "    </tr>\n",
       "  </tbody>\n",
       "</table>\n",
       "</div>"
      ],
      "text/plain": [
       "   Year  Total_Expenditure\n",
       "0  1992       237333143.00\n",
       "1  1993       244202408.00\n",
       "2  1994       252664869.00\n",
       "3  1995       281831835.00\n",
       "4  1996       297740499.00"
      ]
     },
     "execution_count": 9,
     "metadata": {},
     "output_type": "execute_result"
    }
   ],
   "source": [
    "df = total_df\n",
    "df.head()"
   ]
  },
  {
   "cell_type": "markdown",
   "metadata": {},
   "source": [
    "PART THREE"
   ]
  },
  {
   "cell_type": "markdown",
   "metadata": {},
   "source": [
    "3. For prophet to work, we need to change the names of these columns to 'ds' and 'y'. Additioinally, fbprophet doesn't like the index to be a datetime...it wants to see 'ds' as a non-index column, so we won't set an index differnetly than the integer index."
   ]
  },
  {
   "cell_type": "code",
   "execution_count": 10,
   "metadata": {},
   "outputs": [],
   "source": [
    "df=df.rename(columns={'Year':'ds', 'Total_Expenditure':'y'})"
   ]
  },
  {
   "cell_type": "code",
   "execution_count": 11,
   "metadata": {},
   "outputs": [
    {
     "data": {
      "text/html": [
       "<div>\n",
       "<style scoped>\n",
       "    .dataframe tbody tr th:only-of-type {\n",
       "        vertical-align: middle;\n",
       "    }\n",
       "\n",
       "    .dataframe tbody tr th {\n",
       "        vertical-align: top;\n",
       "    }\n",
       "\n",
       "    .dataframe thead th {\n",
       "        text-align: right;\n",
       "    }\n",
       "</style>\n",
       "<table border=\"1\" class=\"dataframe\">\n",
       "  <thead>\n",
       "    <tr style=\"text-align: right;\">\n",
       "      <th></th>\n",
       "      <th>ds</th>\n",
       "      <th>y</th>\n",
       "    </tr>\n",
       "  </thead>\n",
       "  <tbody>\n",
       "    <tr>\n",
       "      <th>0</th>\n",
       "      <td>1992</td>\n",
       "      <td>237333143.00</td>\n",
       "    </tr>\n",
       "    <tr>\n",
       "      <th>1</th>\n",
       "      <td>1993</td>\n",
       "      <td>244202408.00</td>\n",
       "    </tr>\n",
       "    <tr>\n",
       "      <th>2</th>\n",
       "      <td>1994</td>\n",
       "      <td>252664869.00</td>\n",
       "    </tr>\n",
       "    <tr>\n",
       "      <th>3</th>\n",
       "      <td>1995</td>\n",
       "      <td>281831835.00</td>\n",
       "    </tr>\n",
       "    <tr>\n",
       "      <th>4</th>\n",
       "      <td>1996</td>\n",
       "      <td>297740499.00</td>\n",
       "    </tr>\n",
       "  </tbody>\n",
       "</table>\n",
       "</div>"
      ],
      "text/plain": [
       "     ds            y\n",
       "0  1992 237333143.00\n",
       "1  1993 244202408.00\n",
       "2  1994 252664869.00\n",
       "3  1995 281831835.00\n",
       "4  1996 297740499.00"
      ]
     },
     "execution_count": 11,
     "metadata": {},
     "output_type": "execute_result"
    }
   ],
   "source": [
    "df.head()"
   ]
  },
  {
   "cell_type": "markdown",
   "metadata": {},
   "source": [
    "4. Plot data"
   ]
  },
  {
   "cell_type": "code",
   "execution_count": 12,
   "metadata": {},
   "outputs": [
    {
     "data": {
      "text/plain": [
       "<AxesSubplot:xlabel='ds'>"
      ]
     },
     "execution_count": 12,
     "metadata": {},
     "output_type": "execute_result"
    },
    {
     "data": {
      "image/png": "[encoded data removed]",
      "text/plain": [
       "<Figure size 1440x720 with 1 Axes>"
      ]
     },
     "metadata": {},
     "output_type": "display_data"
    }
   ],
   "source": [
    "df.set_index('ds').y.plot()"
   ]
  },
  {
   "cell_type": "markdown",
   "metadata": {},
   "source": [
    "5.  Take a look at the data to determine if trends exist, whether it is stationary, has any outliers and/or any other anamolies. Prophet's example uses the log-transform as a way to remove some of these anomolies. Taking the log of a number is easily reversible to be able to see your original data. \n",
    "\n",
    "To log-transform your data, use numpy's log() function"
   ]
  },
  {
   "cell_type": "code",
   "execution_count": 13,
   "metadata": {},
   "outputs": [],
   "source": [
    "df['y'] = np.log(df['y'])"
   ]
  },
  {
   "cell_type": "code",
   "execution_count": 14,
   "metadata": {},
   "outputs": [
    {
     "data": {
      "text/html": [
       "<div>\n",
       "<style scoped>\n",
       "    .dataframe tbody tr th:only-of-type {\n",
       "        vertical-align: middle;\n",
       "    }\n",
       "\n",
       "    .dataframe tbody tr th {\n",
       "        vertical-align: top;\n",
       "    }\n",
       "\n",
       "    .dataframe thead th {\n",
       "        text-align: right;\n",
       "    }\n",
       "</style>\n",
       "<table border=\"1\" class=\"dataframe\">\n",
       "  <thead>\n",
       "    <tr style=\"text-align: right;\">\n",
       "      <th></th>\n",
       "      <th>ds</th>\n",
       "      <th>y</th>\n",
       "    </tr>\n",
       "  </thead>\n",
       "  <tbody>\n",
       "    <tr>\n",
       "      <th>20</th>\n",
       "      <td>2012</td>\n",
       "      <td>20.22</td>\n",
       "    </tr>\n",
       "    <tr>\n",
       "      <th>21</th>\n",
       "      <td>2013</td>\n",
       "      <td>20.23</td>\n",
       "    </tr>\n",
       "    <tr>\n",
       "      <th>22</th>\n",
       "      <td>2014</td>\n",
       "      <td>20.25</td>\n",
       "    </tr>\n",
       "    <tr>\n",
       "      <th>23</th>\n",
       "      <td>2015</td>\n",
       "      <td>20.29</td>\n",
       "    </tr>\n",
       "    <tr>\n",
       "      <th>24</th>\n",
       "      <td>2016</td>\n",
       "      <td>20.33</td>\n",
       "    </tr>\n",
       "  </tbody>\n",
       "</table>\n",
       "</div>"
      ],
      "text/plain": [
       "      ds     y\n",
       "20  2012 20.22\n",
       "21  2013 20.23\n",
       "22  2014 20.25\n",
       "23  2015 20.29\n",
       "24  2016 20.33"
      ]
     },
     "execution_count": 14,
     "metadata": {},
     "output_type": "execute_result"
    }
   ],
   "source": [
    "df.tail()"
   ]
  },
  {
   "cell_type": "markdown",
   "metadata": {},
   "source": [
    "Plot the graph"
   ]
  },
  {
   "cell_type": "code",
   "execution_count": 15,
   "metadata": {},
   "outputs": [
    {
     "data": {
      "text/plain": [
       "<AxesSubplot:xlabel='ds'>"
      ]
     },
     "execution_count": 15,
     "metadata": {},
     "output_type": "execute_result"
    },
    {
     "data": {
      "image/png": "[encoded data removed]",
      "text/plain": [
       "<Figure size 1440x720 with 1 Axes>"
      ]
     },
     "metadata": {},
     "output_type": "display_data"
    }
   ],
   "source": [
    "df.set_index('ds').y.plot()"
   ]
  },
  {
   "cell_type": "markdown",
   "metadata": {},
   "source": [
    "6.the plot looks the same as the first one but just at a different scale"
   ]
  },
  {
   "cell_type": "markdown",
   "metadata": {},
   "source": [
    "PART FOUR"
   ]
  },
  {
   "cell_type": "markdown",
   "metadata": {},
   "source": [
    "7. set prophet up to begin modeling our data."
   ]
  },
  {
   "cell_type": "code",
   "execution_count": 16,
   "metadata": {},
   "outputs": [
    {
     "name": "stderr",
     "output_type": "stream",
     "text": [
      "INFO:fbprophet:Disabling weekly seasonality. Run prophet with weekly_seasonality=True to override this.\n",
      "INFO:fbprophet:Disabling daily seasonality. Run prophet with daily_seasonality=True to override this.\n",
      "INFO:fbprophet:n_changepoints greater than number of observations. Using 19.\n"
     ]
    }
   ],
   "source": [
    "model = Prophet(yearly_seasonality=True)\n",
    "model.fit(df);"
   ]
  },
  {
   "cell_type": "markdown",
   "metadata": {},
   "source": [
    "Prophet detects changepoints by first specifying a large number of potential changepoints at which the rate is allowed to change. It then puts a sparse prior on the magnitudes of the rate changes (equivalent to L1 regularization) - this essentially means that Prophet has a large number of possible places where the rate can change, but will use as few of them as possible. By default, Prophet specifies 25 potential changepoints which are uniformly placed in the first 80% of the time series."
   ]
  },
  {
   "cell_type": "markdown",
   "metadata": {},
   "source": [
    "8.  add some future dates to our dataframe. For this example, I want to forecast 4 years into the future. y = year"
   ]
  },
  {
   "cell_type": "code",
   "execution_count": 17,
   "metadata": {},
   "outputs": [
    {
     "data": {
      "text/html": [
       "<div>\n",
       "<style scoped>\n",
       "    .dataframe tbody tr th:only-of-type {\n",
       "        vertical-align: middle;\n",
       "    }\n",
       "\n",
       "    .dataframe tbody tr th {\n",
       "        vertical-align: top;\n",
       "    }\n",
       "\n",
       "    .dataframe thead th {\n",
       "        text-align: right;\n",
       "    }\n",
       "</style>\n",
       "<table border=\"1\" class=\"dataframe\">\n",
       "  <thead>\n",
       "    <tr style=\"text-align: right;\">\n",
       "      <th></th>\n",
       "      <th>ds</th>\n",
       "    </tr>\n",
       "  </thead>\n",
       "  <tbody>\n",
       "    <tr>\n",
       "      <th>24</th>\n",
       "      <td>2016-01-01</td>\n",
       "    </tr>\n",
       "    <tr>\n",
       "      <th>25</th>\n",
       "      <td>2016-12-31</td>\n",
       "    </tr>\n",
       "    <tr>\n",
       "      <th>26</th>\n",
       "      <td>2017-12-31</td>\n",
       "    </tr>\n",
       "    <tr>\n",
       "      <th>27</th>\n",
       "      <td>2018-12-31</td>\n",
       "    </tr>\n",
       "    <tr>\n",
       "      <th>28</th>\n",
       "      <td>2019-12-31</td>\n",
       "    </tr>\n",
       "  </tbody>\n",
       "</table>\n",
       "</div>"
      ],
      "text/plain": [
       "           ds\n",
       "24 2016-01-01\n",
       "25 2016-12-31\n",
       "26 2017-12-31\n",
       "27 2018-12-31\n",
       "28 2019-12-31"
      ]
     },
     "execution_count": 17,
     "metadata": {},
     "output_type": "execute_result"
    }
   ],
   "source": [
    "future = model.make_future_dataframe(periods=4, freq = 'y')\n",
    "future.tail()"
   ]
  },
  {
   "cell_type": "markdown",
   "metadata": {},
   "source": [
    "9. To forecast this future data, we need to run it through Prophet's model."
   ]
  },
  {
   "cell_type": "code",
   "execution_count": 18,
   "metadata": {},
   "outputs": [],
   "source": [
    "forecast = model.predict(future)"
   ]
  },
  {
   "cell_type": "code",
   "execution_count": 19,
   "metadata": {},
   "outputs": [
    {
     "data": {
      "text/html": [
       "<div>\n",
       "<style scoped>\n",
       "    .dataframe tbody tr th:only-of-type {\n",
       "        vertical-align: middle;\n",
       "    }\n",
       "\n",
       "    .dataframe tbody tr th {\n",
       "        vertical-align: top;\n",
       "    }\n",
       "\n",
       "    .dataframe thead th {\n",
       "        text-align: right;\n",
       "    }\n",
       "</style>\n",
       "<table border=\"1\" class=\"dataframe\">\n",
       "  <thead>\n",
       "    <tr style=\"text-align: right;\">\n",
       "      <th></th>\n",
       "      <th>ds</th>\n",
       "      <th>trend</th>\n",
       "      <th>yhat_lower</th>\n",
       "      <th>yhat_upper</th>\n",
       "      <th>trend_lower</th>\n",
       "      <th>trend_upper</th>\n",
       "      <th>additive_terms</th>\n",
       "      <th>additive_terms_lower</th>\n",
       "      <th>additive_terms_upper</th>\n",
       "      <th>yearly</th>\n",
       "      <th>yearly_lower</th>\n",
       "      <th>yearly_upper</th>\n",
       "      <th>multiplicative_terms</th>\n",
       "      <th>multiplicative_terms_lower</th>\n",
       "      <th>multiplicative_terms_upper</th>\n",
       "      <th>yhat</th>\n",
       "    </tr>\n",
       "  </thead>\n",
       "  <tbody>\n",
       "    <tr>\n",
       "      <th>24</th>\n",
       "      <td>2016-01-01</td>\n",
       "      <td>1.91</td>\n",
       "      <td>20.31</td>\n",
       "      <td>20.33</td>\n",
       "      <td>1.91</td>\n",
       "      <td>1.91</td>\n",
       "      <td>18.41</td>\n",
       "      <td>18.41</td>\n",
       "      <td>18.41</td>\n",
       "      <td>18.41</td>\n",
       "      <td>18.41</td>\n",
       "      <td>18.41</td>\n",
       "      <td>0.00</td>\n",
       "      <td>0.00</td>\n",
       "      <td>0.00</td>\n",
       "      <td>20.32</td>\n",
       "    </tr>\n",
       "    <tr>\n",
       "      <th>25</th>\n",
       "      <td>2016-12-31</td>\n",
       "      <td>1.93</td>\n",
       "      <td>20.30</td>\n",
       "      <td>20.34</td>\n",
       "      <td>1.91</td>\n",
       "      <td>1.95</td>\n",
       "      <td>18.39</td>\n",
       "      <td>18.39</td>\n",
       "      <td>18.39</td>\n",
       "      <td>18.39</td>\n",
       "      <td>18.39</td>\n",
       "      <td>18.39</td>\n",
       "      <td>0.00</td>\n",
       "      <td>0.00</td>\n",
       "      <td>0.00</td>\n",
       "      <td>20.32</td>\n",
       "    </tr>\n",
       "    <tr>\n",
       "      <th>26</th>\n",
       "      <td>2017-12-31</td>\n",
       "      <td>1.95</td>\n",
       "      <td>20.23</td>\n",
       "      <td>20.34</td>\n",
       "      <td>1.89</td>\n",
       "      <td>2.00</td>\n",
       "      <td>18.34</td>\n",
       "      <td>18.34</td>\n",
       "      <td>18.34</td>\n",
       "      <td>18.34</td>\n",
       "      <td>18.34</td>\n",
       "      <td>18.34</td>\n",
       "      <td>0.00</td>\n",
       "      <td>0.00</td>\n",
       "      <td>0.00</td>\n",
       "      <td>20.29</td>\n",
       "    </tr>\n",
       "    <tr>\n",
       "      <th>27</th>\n",
       "      <td>2018-12-31</td>\n",
       "      <td>1.97</td>\n",
       "      <td>20.11</td>\n",
       "      <td>20.32</td>\n",
       "      <td>1.86</td>\n",
       "      <td>2.08</td>\n",
       "      <td>18.24</td>\n",
       "      <td>18.24</td>\n",
       "      <td>18.24</td>\n",
       "      <td>18.24</td>\n",
       "      <td>18.24</td>\n",
       "      <td>18.24</td>\n",
       "      <td>0.00</td>\n",
       "      <td>0.00</td>\n",
       "      <td>0.00</td>\n",
       "      <td>20.22</td>\n",
       "    </tr>\n",
       "    <tr>\n",
       "      <th>28</th>\n",
       "      <td>2019-12-31</td>\n",
       "      <td>2.00</td>\n",
       "      <td>19.92</td>\n",
       "      <td>20.26</td>\n",
       "      <td>1.83</td>\n",
       "      <td>2.16</td>\n",
       "      <td>18.09</td>\n",
       "      <td>18.09</td>\n",
       "      <td>18.09</td>\n",
       "      <td>18.09</td>\n",
       "      <td>18.09</td>\n",
       "      <td>18.09</td>\n",
       "      <td>0.00</td>\n",
       "      <td>0.00</td>\n",
       "      <td>0.00</td>\n",
       "      <td>20.09</td>\n",
       "    </tr>\n",
       "  </tbody>\n",
       "</table>\n",
       "</div>"
      ],
      "text/plain": [
       "           ds  trend  yhat_lower  yhat_upper  trend_lower  trend_upper  \\\n",
       "24 2016-01-01   1.91       20.31       20.33         1.91         1.91   \n",
       "25 2016-12-31   1.93       20.30       20.34         1.91         1.95   \n",
       "26 2017-12-31   1.95       20.23       20.34         1.89         2.00   \n",
       "27 2018-12-31   1.97       20.11       20.32         1.86         2.08   \n",
       "28 2019-12-31   2.00       19.92       20.26         1.83         2.16   \n",
       "\n",
       "    additive_terms  additive_terms_lower  additive_terms_upper  yearly  \\\n",
       "24           18.41                 18.41                 18.41   18.41   \n",
       "25           18.39                 18.39                 18.39   18.39   \n",
       "26           18.34                 18.34                 18.34   18.34   \n",
       "27           18.24                 18.24                 18.24   18.24   \n",
       "28           18.09                 18.09                 18.09   18.09   \n",
       "\n",
       "    yearly_lower  yearly_upper  multiplicative_terms  \\\n",
       "24         18.41         18.41                  0.00   \n",
       "25         18.39         18.39                  0.00   \n",
       "26         18.34         18.34                  0.00   \n",
       "27         18.24         18.24                  0.00   \n",
       "28         18.09         18.09                  0.00   \n",
       "\n",
       "    multiplicative_terms_lower  multiplicative_terms_upper  yhat  \n",
       "24                        0.00                        0.00 20.32  \n",
       "25                        0.00                        0.00 20.32  \n",
       "26                        0.00                        0.00 20.29  \n",
       "27                        0.00                        0.00 20.22  \n",
       "28                        0.00                        0.00 20.09  "
      ]
     },
     "execution_count": 19,
     "metadata": {},
     "output_type": "execute_result"
    }
   ],
   "source": [
    "forecast.tail()"
   ]
  },
  {
   "cell_type": "markdown",
   "metadata": {},
   "source": [
    "10. We really only want to look at yhat, yhat_lower and yhat_upper, so we can do that with:"
   ]
  },
  {
   "cell_type": "code",
   "execution_count": 20,
   "metadata": {},
   "outputs": [
    {
     "data": {
      "text/html": [
       "<div>\n",
       "<style scoped>\n",
       "    .dataframe tbody tr th:only-of-type {\n",
       "        vertical-align: middle;\n",
       "    }\n",
       "\n",
       "    .dataframe tbody tr th {\n",
       "        vertical-align: top;\n",
       "    }\n",
       "\n",
       "    .dataframe thead th {\n",
       "        text-align: right;\n",
       "    }\n",
       "</style>\n",
       "<table border=\"1\" class=\"dataframe\">\n",
       "  <thead>\n",
       "    <tr style=\"text-align: right;\">\n",
       "      <th></th>\n",
       "      <th>ds</th>\n",
       "      <th>yhat</th>\n",
       "      <th>yhat_lower</th>\n",
       "      <th>yhat_upper</th>\n",
       "    </tr>\n",
       "  </thead>\n",
       "  <tbody>\n",
       "    <tr>\n",
       "      <th>24</th>\n",
       "      <td>2016-01-01</td>\n",
       "      <td>20.32</td>\n",
       "      <td>20.31</td>\n",
       "      <td>20.33</td>\n",
       "    </tr>\n",
       "    <tr>\n",
       "      <th>25</th>\n",
       "      <td>2016-12-31</td>\n",
       "      <td>20.32</td>\n",
       "      <td>20.30</td>\n",
       "      <td>20.34</td>\n",
       "    </tr>\n",
       "    <tr>\n",
       "      <th>26</th>\n",
       "      <td>2017-12-31</td>\n",
       "      <td>20.29</td>\n",
       "      <td>20.23</td>\n",
       "      <td>20.34</td>\n",
       "    </tr>\n",
       "    <tr>\n",
       "      <th>27</th>\n",
       "      <td>2018-12-31</td>\n",
       "      <td>20.22</td>\n",
       "      <td>20.11</td>\n",
       "      <td>20.32</td>\n",
       "    </tr>\n",
       "    <tr>\n",
       "      <th>28</th>\n",
       "      <td>2019-12-31</td>\n",
       "      <td>20.09</td>\n",
       "      <td>19.92</td>\n",
       "      <td>20.26</td>\n",
       "    </tr>\n",
       "  </tbody>\n",
       "</table>\n",
       "</div>"
      ],
      "text/plain": [
       "           ds  yhat  yhat_lower  yhat_upper\n",
       "24 2016-01-01 20.32       20.31       20.33\n",
       "25 2016-12-31 20.32       20.30       20.34\n",
       "26 2017-12-31 20.29       20.23       20.34\n",
       "27 2018-12-31 20.22       20.11       20.32\n",
       "28 2019-12-31 20.09       19.92       20.26"
      ]
     },
     "execution_count": 20,
     "metadata": {},
     "output_type": "execute_result"
    }
   ],
   "source": [
    "forecast[['ds', 'yhat', 'yhat_lower', 'yhat_upper']].tail()"
   ]
  },
  {
   "cell_type": "markdown",
   "metadata": {},
   "source": [
    "PART FIVE"
   ]
  },
  {
   "cell_type": "markdown",
   "metadata": {},
   "source": [
    "11. Plotting prophet Results"
   ]
  },
  {
   "cell_type": "code",
   "execution_count": 21,
   "metadata": {
    "scrolled": true
   },
   "outputs": [
    {
     "data": {
      "image/png": "[encoded data removed]",
      "text/plain": [
       "<Figure size 720x432 with 1 Axes>"
      ]
     },
     "metadata": {},
     "output_type": "display_data"
    }
   ],
   "source": [
    "model.plot(forecast);"
   ]
  },
  {
   "cell_type": "markdown",
   "metadata": {},
   "source": [
    "draws the original data (black dots), the model (blue line) and the error of the forecast (shaded blue area)."
   ]
  },
  {
   "cell_type": "markdown",
   "metadata": {},
   "source": [
    "PART SIX"
   ]
  },
  {
   "cell_type": "markdown",
   "metadata": {},
   "source": [
    "Visualizing Prophet models\n",
    "build a dataframe to visualize model versus original data, we need to combine the output of the Prophet model with the  Original data set, then we'll build a new chart manually using pandas and matplotlib."
   ]
  },
  {
   "cell_type": "code",
   "execution_count": 22,
   "metadata": {},
   "outputs": [],
   "source": [
    "df.set_index('ds', inplace=True)\n",
    "forecast.set_index('ds', inplace=True)"
   ]
  },
  {
   "cell_type": "markdown",
   "metadata": {},
   "source": [
    "combine the original data and our forecast model data"
   ]
  },
  {
   "cell_type": "code",
   "execution_count": 23,
   "metadata": {},
   "outputs": [],
   "source": [
    "total_df=total_df.rename(columns={'Year':'ds', 'Total_Expenditure':'y'})\n",
    "total_df.set_index('ds', inplace=True)"
   ]
  },
  {
   "cell_type": "code",
   "execution_count": 24,
   "metadata": {},
   "outputs": [],
   "source": [
    "viz_df = total_df.join(forecast[['yhat', 'yhat_lower','yhat_upper']], how = 'outer')"
   ]
  },
  {
   "cell_type": "markdown",
   "metadata": {},
   "source": [
    "If we look at the head(), we see the data has been joined correctly but the scales of our original data (total) and our model (yhat) are different. We need to rescale the yhat colums(s) to get the same scale, so we'll use numpy's exp function to do that."
   ]
  },
  {
   "cell_type": "code",
   "execution_count": 25,
   "metadata": {},
   "outputs": [
    {
     "data": {
      "text/html": [
       "<div>\n",
       "<style scoped>\n",
       "    .dataframe tbody tr th:only-of-type {\n",
       "        vertical-align: middle;\n",
       "    }\n",
       "\n",
       "    .dataframe tbody tr th {\n",
       "        vertical-align: top;\n",
       "    }\n",
       "\n",
       "    .dataframe thead th {\n",
       "        text-align: right;\n",
       "    }\n",
       "</style>\n",
       "<table border=\"1\" class=\"dataframe\">\n",
       "  <thead>\n",
       "    <tr style=\"text-align: right;\">\n",
       "      <th></th>\n",
       "      <th>y</th>\n",
       "      <th>yhat</th>\n",
       "      <th>yhat_lower</th>\n",
       "      <th>yhat_upper</th>\n",
       "    </tr>\n",
       "    <tr>\n",
       "      <th>ds</th>\n",
       "      <th></th>\n",
       "      <th></th>\n",
       "      <th></th>\n",
       "      <th></th>\n",
       "    </tr>\n",
       "  </thead>\n",
       "  <tbody>\n",
       "    <tr>\n",
       "      <th>1992-01-01</th>\n",
       "      <td>237333143.00</td>\n",
       "      <td>19.29</td>\n",
       "      <td>19.28</td>\n",
       "      <td>19.29</td>\n",
       "    </tr>\n",
       "    <tr>\n",
       "      <th>1993-01-01</th>\n",
       "      <td>244202408.00</td>\n",
       "      <td>19.31</td>\n",
       "      <td>19.30</td>\n",
       "      <td>19.32</td>\n",
       "    </tr>\n",
       "    <tr>\n",
       "      <th>1994-01-01</th>\n",
       "      <td>252664869.00</td>\n",
       "      <td>19.35</td>\n",
       "      <td>19.34</td>\n",
       "      <td>19.36</td>\n",
       "    </tr>\n",
       "    <tr>\n",
       "      <th>1995-01-01</th>\n",
       "      <td>281831835.00</td>\n",
       "      <td>19.45</td>\n",
       "      <td>19.45</td>\n",
       "      <td>19.46</td>\n",
       "    </tr>\n",
       "    <tr>\n",
       "      <th>1996-01-01</th>\n",
       "      <td>297740499.00</td>\n",
       "      <td>19.51</td>\n",
       "      <td>19.51</td>\n",
       "      <td>19.52</td>\n",
       "    </tr>\n",
       "  </tbody>\n",
       "</table>\n",
       "</div>"
      ],
      "text/plain": [
       "                      y  yhat  yhat_lower  yhat_upper\n",
       "ds                                                   \n",
       "1992-01-01 237333143.00 19.29       19.28       19.29\n",
       "1993-01-01 244202408.00 19.31       19.30       19.32\n",
       "1994-01-01 252664869.00 19.35       19.34       19.36\n",
       "1995-01-01 281831835.00 19.45       19.45       19.46\n",
       "1996-01-01 297740499.00 19.51       19.51       19.52"
      ]
     },
     "execution_count": 25,
     "metadata": {},
     "output_type": "execute_result"
    }
   ],
   "source": [
    "viz_df.head()"
   ]
  },
  {
   "cell_type": "code",
   "execution_count": 26,
   "metadata": {},
   "outputs": [
    {
     "data": {
      "text/html": [
       "<div>\n",
       "<style scoped>\n",
       "    .dataframe tbody tr th:only-of-type {\n",
       "        vertical-align: middle;\n",
       "    }\n",
       "\n",
       "    .dataframe tbody tr th {\n",
       "        vertical-align: top;\n",
       "    }\n",
       "\n",
       "    .dataframe thead th {\n",
       "        text-align: right;\n",
       "    }\n",
       "</style>\n",
       "<table border=\"1\" class=\"dataframe\">\n",
       "  <thead>\n",
       "    <tr style=\"text-align: right;\">\n",
       "      <th></th>\n",
       "      <th>y</th>\n",
       "      <th>yhat</th>\n",
       "      <th>yhat_lower</th>\n",
       "      <th>yhat_upper</th>\n",
       "      <th>yhat_rescaled</th>\n",
       "    </tr>\n",
       "    <tr>\n",
       "      <th>ds</th>\n",
       "      <th></th>\n",
       "      <th></th>\n",
       "      <th></th>\n",
       "      <th></th>\n",
       "      <th></th>\n",
       "    </tr>\n",
       "  </thead>\n",
       "  <tbody>\n",
       "    <tr>\n",
       "      <th>1992-01-01</th>\n",
       "      <td>237333143.00</td>\n",
       "      <td>19.29</td>\n",
       "      <td>19.28</td>\n",
       "      <td>19.29</td>\n",
       "      <td>237502543.54</td>\n",
       "    </tr>\n",
       "    <tr>\n",
       "      <th>1993-01-01</th>\n",
       "      <td>244202408.00</td>\n",
       "      <td>19.31</td>\n",
       "      <td>19.30</td>\n",
       "      <td>19.32</td>\n",
       "      <td>243679328.32</td>\n",
       "    </tr>\n",
       "    <tr>\n",
       "      <th>1994-01-01</th>\n",
       "      <td>252664869.00</td>\n",
       "      <td>19.35</td>\n",
       "      <td>19.34</td>\n",
       "      <td>19.36</td>\n",
       "      <td>253388917.65</td>\n",
       "    </tr>\n",
       "    <tr>\n",
       "      <th>1995-01-01</th>\n",
       "      <td>281831835.00</td>\n",
       "      <td>19.45</td>\n",
       "      <td>19.45</td>\n",
       "      <td>19.46</td>\n",
       "      <td>281026510.89</td>\n",
       "    </tr>\n",
       "    <tr>\n",
       "      <th>1996-01-01</th>\n",
       "      <td>297740499.00</td>\n",
       "      <td>19.51</td>\n",
       "      <td>19.51</td>\n",
       "      <td>19.52</td>\n",
       "      <td>298592552.76</td>\n",
       "    </tr>\n",
       "  </tbody>\n",
       "</table>\n",
       "</div>"
      ],
      "text/plain": [
       "                      y  yhat  yhat_lower  yhat_upper  yhat_rescaled\n",
       "ds                                                                  \n",
       "1992-01-01 237333143.00 19.29       19.28       19.29   237502543.54\n",
       "1993-01-01 244202408.00 19.31       19.30       19.32   243679328.32\n",
       "1994-01-01 252664869.00 19.35       19.34       19.36   253388917.65\n",
       "1995-01-01 281831835.00 19.45       19.45       19.46   281026510.89\n",
       "1996-01-01 297740499.00 19.51       19.51       19.52   298592552.76"
      ]
     },
     "execution_count": 26,
     "metadata": {},
     "output_type": "execute_result"
    }
   ],
   "source": [
    "\n",
    "viz_df['yhat_rescaled'] = np.exp(viz_df['yhat'])\n",
    "\n",
    "\n",
    "viz_df.head()"
   ]
  },
  {
   "cell_type": "markdown",
   "metadata": {},
   "source": [
    "Let's take a look at the expenditires and yhat_rescaled data together in a chart."
   ]
  },
  {
   "cell_type": "code",
   "execution_count": 27,
   "metadata": {},
   "outputs": [
    {
     "data": {
      "text/plain": [
       "<AxesSubplot:xlabel='ds'>"
      ]
     },
     "execution_count": 27,
     "metadata": {},
     "output_type": "execute_result"
    },
    {
     "data": {
      "image/png": "[encoded data removed]",
      "text/plain": [
       "<Figure size 1440x720 with 1 Axes>"
      ]
     },
     "metadata": {},
     "output_type": "display_data"
    }
   ],
   "source": [
    "viz_df[['y', 'yhat_rescaled']].plot()"
   ]
  },
  {
   "cell_type": "markdown",
   "metadata": {},
   "source": [
    "Model (blue)  plotted against the actual signal (orange).\n",
    "\n",
    "find the 2nd to last date of the original expenditires data in ```total_df``` in order to ensure the original expenditires data and model data charts are connected. "
   ]
  },
  {
   "cell_type": "code",
   "execution_count": 28,
   "metadata": {},
   "outputs": [],
   "source": [
    "total_df.index = pd.to_datetime(total_df.index) #make sure our index as a datetime object\n",
    "connect_date = total_df.index[-2] #select the 2nd to last date"
   ]
  },
  {
   "cell_type": "markdown",
   "metadata": {},
   "source": [
    "Using the ```connect_date``` grab only the model data after that date. Mask the forecast data."
   ]
  },
  {
   "cell_type": "code",
   "execution_count": 29,
   "metadata": {},
   "outputs": [],
   "source": [
    "mask = (forecast.index > connect_date)\n",
    "predict_df = forecast.loc[mask]"
   ]
  },
  {
   "cell_type": "code",
   "execution_count": 30,
   "metadata": {},
   "outputs": [
    {
     "data": {
      "text/html": [
       "<div>\n",
       "<style scoped>\n",
       "    .dataframe tbody tr th:only-of-type {\n",
       "        vertical-align: middle;\n",
       "    }\n",
       "\n",
       "    .dataframe tbody tr th {\n",
       "        vertical-align: top;\n",
       "    }\n",
       "\n",
       "    .dataframe thead th {\n",
       "        text-align: right;\n",
       "    }\n",
       "</style>\n",
       "<table border=\"1\" class=\"dataframe\">\n",
       "  <thead>\n",
       "    <tr style=\"text-align: right;\">\n",
       "      <th></th>\n",
       "      <th>trend</th>\n",
       "      <th>yhat_lower</th>\n",
       "      <th>yhat_upper</th>\n",
       "      <th>trend_lower</th>\n",
       "      <th>trend_upper</th>\n",
       "      <th>additive_terms</th>\n",
       "      <th>additive_terms_lower</th>\n",
       "      <th>additive_terms_upper</th>\n",
       "      <th>yearly</th>\n",
       "      <th>yearly_lower</th>\n",
       "      <th>yearly_upper</th>\n",
       "      <th>multiplicative_terms</th>\n",
       "      <th>multiplicative_terms_lower</th>\n",
       "      <th>multiplicative_terms_upper</th>\n",
       "      <th>yhat</th>\n",
       "    </tr>\n",
       "    <tr>\n",
       "      <th>ds</th>\n",
       "      <th></th>\n",
       "      <th></th>\n",
       "      <th></th>\n",
       "      <th></th>\n",
       "      <th></th>\n",
       "      <th></th>\n",
       "      <th></th>\n",
       "      <th></th>\n",
       "      <th></th>\n",
       "      <th></th>\n",
       "      <th></th>\n",
       "      <th></th>\n",
       "      <th></th>\n",
       "      <th></th>\n",
       "      <th></th>\n",
       "    </tr>\n",
       "  </thead>\n",
       "  <tbody>\n",
       "    <tr>\n",
       "      <th>2016-01-01</th>\n",
       "      <td>1.91</td>\n",
       "      <td>20.31</td>\n",
       "      <td>20.33</td>\n",
       "      <td>1.91</td>\n",
       "      <td>1.91</td>\n",
       "      <td>18.41</td>\n",
       "      <td>18.41</td>\n",
       "      <td>18.41</td>\n",
       "      <td>18.41</td>\n",
       "      <td>18.41</td>\n",
       "      <td>18.41</td>\n",
       "      <td>0.00</td>\n",
       "      <td>0.00</td>\n",
       "      <td>0.00</td>\n",
       "      <td>20.32</td>\n",
       "    </tr>\n",
       "    <tr>\n",
       "      <th>2016-12-31</th>\n",
       "      <td>1.93</td>\n",
       "      <td>20.30</td>\n",
       "      <td>20.34</td>\n",
       "      <td>1.91</td>\n",
       "      <td>1.95</td>\n",
       "      <td>18.39</td>\n",
       "      <td>18.39</td>\n",
       "      <td>18.39</td>\n",
       "      <td>18.39</td>\n",
       "      <td>18.39</td>\n",
       "      <td>18.39</td>\n",
       "      <td>0.00</td>\n",
       "      <td>0.00</td>\n",
       "      <td>0.00</td>\n",
       "      <td>20.32</td>\n",
       "    </tr>\n",
       "    <tr>\n",
       "      <th>2017-12-31</th>\n",
       "      <td>1.95</td>\n",
       "      <td>20.23</td>\n",
       "      <td>20.34</td>\n",
       "      <td>1.89</td>\n",
       "      <td>2.00</td>\n",
       "      <td>18.34</td>\n",
       "      <td>18.34</td>\n",
       "      <td>18.34</td>\n",
       "      <td>18.34</td>\n",
       "      <td>18.34</td>\n",
       "      <td>18.34</td>\n",
       "      <td>0.00</td>\n",
       "      <td>0.00</td>\n",
       "      <td>0.00</td>\n",
       "      <td>20.29</td>\n",
       "    </tr>\n",
       "    <tr>\n",
       "      <th>2018-12-31</th>\n",
       "      <td>1.97</td>\n",
       "      <td>20.11</td>\n",
       "      <td>20.32</td>\n",
       "      <td>1.86</td>\n",
       "      <td>2.08</td>\n",
       "      <td>18.24</td>\n",
       "      <td>18.24</td>\n",
       "      <td>18.24</td>\n",
       "      <td>18.24</td>\n",
       "      <td>18.24</td>\n",
       "      <td>18.24</td>\n",
       "      <td>0.00</td>\n",
       "      <td>0.00</td>\n",
       "      <td>0.00</td>\n",
       "      <td>20.22</td>\n",
       "    </tr>\n",
       "    <tr>\n",
       "      <th>2019-12-31</th>\n",
       "      <td>2.00</td>\n",
       "      <td>19.92</td>\n",
       "      <td>20.26</td>\n",
       "      <td>1.83</td>\n",
       "      <td>2.16</td>\n",
       "      <td>18.09</td>\n",
       "      <td>18.09</td>\n",
       "      <td>18.09</td>\n",
       "      <td>18.09</td>\n",
       "      <td>18.09</td>\n",
       "      <td>18.09</td>\n",
       "      <td>0.00</td>\n",
       "      <td>0.00</td>\n",
       "      <td>0.00</td>\n",
       "      <td>20.09</td>\n",
       "    </tr>\n",
       "  </tbody>\n",
       "</table>\n",
       "</div>"
      ],
      "text/plain": [
       "            trend  yhat_lower  yhat_upper  trend_lower  trend_upper  \\\n",
       "ds                                                                    \n",
       "2016-01-01   1.91       20.31       20.33         1.91         1.91   \n",
       "2016-12-31   1.93       20.30       20.34         1.91         1.95   \n",
       "2017-12-31   1.95       20.23       20.34         1.89         2.00   \n",
       "2018-12-31   1.97       20.11       20.32         1.86         2.08   \n",
       "2019-12-31   2.00       19.92       20.26         1.83         2.16   \n",
       "\n",
       "            additive_terms  additive_terms_lower  additive_terms_upper  \\\n",
       "ds                                                                       \n",
       "2016-01-01           18.41                 18.41                 18.41   \n",
       "2016-12-31           18.39                 18.39                 18.39   \n",
       "2017-12-31           18.34                 18.34                 18.34   \n",
       "2018-12-31           18.24                 18.24                 18.24   \n",
       "2019-12-31           18.09                 18.09                 18.09   \n",
       "\n",
       "            yearly  yearly_lower  yearly_upper  multiplicative_terms  \\\n",
       "ds                                                                     \n",
       "2016-01-01   18.41         18.41         18.41                  0.00   \n",
       "2016-12-31   18.39         18.39         18.39                  0.00   \n",
       "2017-12-31   18.34         18.34         18.34                  0.00   \n",
       "2018-12-31   18.24         18.24         18.24                  0.00   \n",
       "2019-12-31   18.09         18.09         18.09                  0.00   \n",
       "\n",
       "            multiplicative_terms_lower  multiplicative_terms_upper  yhat  \n",
       "ds                                                                        \n",
       "2016-01-01                        0.00                        0.00 20.32  \n",
       "2016-12-31                        0.00                        0.00 20.32  \n",
       "2017-12-31                        0.00                        0.00 20.29  \n",
       "2018-12-31                        0.00                        0.00 20.22  \n",
       "2019-12-31                        0.00                        0.00 20.09  "
      ]
     },
     "execution_count": 30,
     "metadata": {},
     "output_type": "execute_result"
    }
   ],
   "source": [
    "predict_df.head()"
   ]
  },
  {
   "cell_type": "markdown",
   "metadata": {},
   "source": [
    "Build a dataframe to use in our new visualization. Follow the same steps we did before."
   ]
  },
  {
   "cell_type": "code",
   "execution_count": 31,
   "metadata": {},
   "outputs": [],
   "source": [
    "viz_df = total_df.join(predict_df[['yhat', 'yhat_lower','yhat_upper']], how = 'outer')\n",
    "viz_df['yhat_scaled']=np.exp(viz_df['yhat'])"
   ]
  },
  {
   "cell_type": "code",
   "execution_count": 32,
   "metadata": {},
   "outputs": [
    {
     "data": {
      "text/html": [
       "<div>\n",
       "<style scoped>\n",
       "    .dataframe tbody tr th:only-of-type {\n",
       "        vertical-align: middle;\n",
       "    }\n",
       "\n",
       "    .dataframe tbody tr th {\n",
       "        vertical-align: top;\n",
       "    }\n",
       "\n",
       "    .dataframe thead th {\n",
       "        text-align: right;\n",
       "    }\n",
       "</style>\n",
       "<table border=\"1\" class=\"dataframe\">\n",
       "  <thead>\n",
       "    <tr style=\"text-align: right;\">\n",
       "      <th></th>\n",
       "      <th>y</th>\n",
       "      <th>yhat</th>\n",
       "      <th>yhat_lower</th>\n",
       "      <th>yhat_upper</th>\n",
       "      <th>yhat_scaled</th>\n",
       "    </tr>\n",
       "    <tr>\n",
       "      <th>ds</th>\n",
       "      <th></th>\n",
       "      <th></th>\n",
       "      <th></th>\n",
       "      <th></th>\n",
       "      <th></th>\n",
       "    </tr>\n",
       "  </thead>\n",
       "  <tbody>\n",
       "    <tr>\n",
       "      <th>1992-01-01</th>\n",
       "      <td>237333143.00</td>\n",
       "      <td>nan</td>\n",
       "      <td>nan</td>\n",
       "      <td>nan</td>\n",
       "      <td>nan</td>\n",
       "    </tr>\n",
       "    <tr>\n",
       "      <th>1993-01-01</th>\n",
       "      <td>244202408.00</td>\n",
       "      <td>nan</td>\n",
       "      <td>nan</td>\n",
       "      <td>nan</td>\n",
       "      <td>nan</td>\n",
       "    </tr>\n",
       "    <tr>\n",
       "      <th>1994-01-01</th>\n",
       "      <td>252664869.00</td>\n",
       "      <td>nan</td>\n",
       "      <td>nan</td>\n",
       "      <td>nan</td>\n",
       "      <td>nan</td>\n",
       "    </tr>\n",
       "    <tr>\n",
       "      <th>1995-01-01</th>\n",
       "      <td>281831835.00</td>\n",
       "      <td>nan</td>\n",
       "      <td>nan</td>\n",
       "      <td>nan</td>\n",
       "      <td>nan</td>\n",
       "    </tr>\n",
       "    <tr>\n",
       "      <th>1996-01-01</th>\n",
       "      <td>297740499.00</td>\n",
       "      <td>nan</td>\n",
       "      <td>nan</td>\n",
       "      <td>nan</td>\n",
       "      <td>nan</td>\n",
       "    </tr>\n",
       "  </tbody>\n",
       "</table>\n",
       "</div>"
      ],
      "text/plain": [
       "                      y  yhat  yhat_lower  yhat_upper  yhat_scaled\n",
       "ds                                                                \n",
       "1992-01-01 237333143.00   nan         nan         nan          nan\n",
       "1993-01-01 244202408.00   nan         nan         nan          nan\n",
       "1994-01-01 252664869.00   nan         nan         nan          nan\n",
       "1995-01-01 281831835.00   nan         nan         nan          nan\n",
       "1996-01-01 297740499.00   nan         nan         nan          nan"
      ]
     },
     "execution_count": 32,
     "metadata": {},
     "output_type": "execute_result"
    }
   ],
   "source": [
    "viz_df.head()"
   ]
  },
  {
   "cell_type": "markdown",
   "metadata": {},
   "source": [
    "If we take a look at the ```tail()``` of the ```viz_df``` you'll see data for the forecasted data and NaN's for the original data series."
   ]
  },
  {
   "cell_type": "code",
   "execution_count": 33,
   "metadata": {},
   "outputs": [
    {
     "data": {
      "text/html": [
       "<div>\n",
       "<style scoped>\n",
       "    .dataframe tbody tr th:only-of-type {\n",
       "        vertical-align: middle;\n",
       "    }\n",
       "\n",
       "    .dataframe tbody tr th {\n",
       "        vertical-align: top;\n",
       "    }\n",
       "\n",
       "    .dataframe thead th {\n",
       "        text-align: right;\n",
       "    }\n",
       "</style>\n",
       "<table border=\"1\" class=\"dataframe\">\n",
       "  <thead>\n",
       "    <tr style=\"text-align: right;\">\n",
       "      <th></th>\n",
       "      <th>y</th>\n",
       "      <th>yhat</th>\n",
       "      <th>yhat_lower</th>\n",
       "      <th>yhat_upper</th>\n",
       "      <th>yhat_scaled</th>\n",
       "    </tr>\n",
       "    <tr>\n",
       "      <th>ds</th>\n",
       "      <th></th>\n",
       "      <th></th>\n",
       "      <th></th>\n",
       "      <th></th>\n",
       "      <th></th>\n",
       "    </tr>\n",
       "  </thead>\n",
       "  <tbody>\n",
       "    <tr>\n",
       "      <th>2016-01-01</th>\n",
       "      <td>676526434.00</td>\n",
       "      <td>20.32</td>\n",
       "      <td>20.31</td>\n",
       "      <td>20.33</td>\n",
       "      <td>667841671.77</td>\n",
       "    </tr>\n",
       "    <tr>\n",
       "      <th>2016-12-31</th>\n",
       "      <td>nan</td>\n",
       "      <td>20.32</td>\n",
       "      <td>20.30</td>\n",
       "      <td>20.34</td>\n",
       "      <td>669013389.21</td>\n",
       "    </tr>\n",
       "    <tr>\n",
       "      <th>2017-12-31</th>\n",
       "      <td>nan</td>\n",
       "      <td>20.29</td>\n",
       "      <td>20.23</td>\n",
       "      <td>20.34</td>\n",
       "      <td>648980634.39</td>\n",
       "    </tr>\n",
       "    <tr>\n",
       "      <th>2018-12-31</th>\n",
       "      <td>nan</td>\n",
       "      <td>20.22</td>\n",
       "      <td>20.11</td>\n",
       "      <td>20.32</td>\n",
       "      <td>603031236.03</td>\n",
       "    </tr>\n",
       "    <tr>\n",
       "      <th>2019-12-31</th>\n",
       "      <td>nan</td>\n",
       "      <td>20.09</td>\n",
       "      <td>19.92</td>\n",
       "      <td>20.26</td>\n",
       "      <td>530972636.67</td>\n",
       "    </tr>\n",
       "  </tbody>\n",
       "</table>\n",
       "</div>"
      ],
      "text/plain": [
       "                      y  yhat  yhat_lower  yhat_upper  yhat_scaled\n",
       "ds                                                                \n",
       "2016-01-01 676526434.00 20.32       20.31       20.33 667841671.77\n",
       "2016-12-31          nan 20.32       20.30       20.34 669013389.21\n",
       "2017-12-31          nan 20.29       20.23       20.34 648980634.39\n",
       "2018-12-31          nan 20.22       20.11       20.32 603031236.03\n",
       "2019-12-31          nan 20.09       19.92       20.26 530972636.67"
      ]
     },
     "execution_count": 33,
     "metadata": {},
     "output_type": "execute_result"
    }
   ],
   "source": [
    "viz_df.tail()"
   ]
  },
  {
   "cell_type": "markdown",
   "metadata": {},
   "source": [
    "PART SEVEN"
   ]
  },
  {
   "cell_type": "markdown",
   "metadata": {},
   "source": [
    "Plot everything to get the 'final' visualization"
   ]
  },
  {
   "cell_type": "code",
   "execution_count": 34,
   "metadata": {},
   "outputs": [
    {
     "data": {
      "image/png": "[encoded data removed]",
      "text/plain": [
       "<Figure size 1440x720 with 1 Axes>"
      ]
     },
     "metadata": {},
     "output_type": "display_data"
    }
   ],
   "source": [
    "fig, ax1 = plt.subplots()\n",
    "ax1.plot(viz_df.y)\n",
    "ax1.plot(viz_df.yhat_scaled, color='black', linestyle=':')\n",
    "ax1.fill_between(viz_df.index, np.exp(viz_df['yhat_upper']), np.exp(viz_df['yhat_lower']), alpha=0.5, color='darkgray')\n",
    "ax1.set_title('Expenditures (Orange) vs Expenditures Forecast (Black)')\n",
    "ax1.set_ylabel('Expenditures')\n",
    "ax1.set_xlabel('Year')\n",
    "ax1.get_yaxis().get_major_formatter().set_useOffset(False)"
   ]
  },
  {
   "cell_type": "markdown",
   "metadata": {},
   "source": [
    "The orange line is actual expenditure data and the black dotted line is the forecast. The gray shaded area is the uncertaintity estimation of the forecast."
   ]
  },
  {
   "cell_type": "code",
   "execution_count": null,
   "metadata": {},
   "outputs": [],
   "source": []
  }
 ],
 "metadata": {
  "kernelspec": {
   "display_name": "Python 3",
   "language": "python",
   "name": "python3"
  },
  "language_info": {
   "codemirror_mode": {
    "name": "ipython",
    "version": 3
   },
   "file_extension": ".py",
   "mimetype": "text/x-python",
   "name": "python",
   "nbconvert_exporter": "python",
   "pygments_lexer": "ipython3",
   "version": "3.7.9"
  }
 },
 "nbformat": 4,
 "nbformat_minor": 4
}
